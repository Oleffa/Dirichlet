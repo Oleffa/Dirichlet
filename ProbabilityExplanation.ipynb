{
 "cells": [
  {
   "cell_type": "markdown",
   "metadata": {},
   "source": [
    "# Probability Explanation"
   ]
  },
  {
   "cell_type": "markdown",
   "metadata": {},
   "source": [
    "Using Dirichlet function to explain concepts based on probabilities"
   ]
  },
  {
   "cell_type": "code",
   "execution_count": 5,
   "metadata": {
    "scrolled": true
   },
   "outputs": [],
   "source": [
    "import numpy as np\n",
    "# Creates a class Dirichlet from alpha parameters with a probability density function\n",
    "from dirichlet import Dirichlet\n",
    "from dirichlet import helper\n",
    "import random\n",
    "\n",
    "%matplotlib inline"
   ]
  },
  {
   "cell_type": "markdown",
   "metadata": {},
   "source": [
    "Sample the regions for the classifier as Dirichlet distribution"
   ]
  },
  {
   "cell_type": "code",
   "execution_count": 21,
   "metadata": {},
   "outputs": [
    {
     "name": "stdout",
     "output_type": "stream",
     "text": [
      "New Dirichlet Distribution created with alpha = [6 1 1]\n",
      "New Dirichlet Distribution created with alpha = [6 6 1]\n",
      "New Dirichlet Distribution created with alpha = [6 6 6]\n"
     ]
    },
    {
     "data": {
      "image/png": "[encoded data removed]",
      "text/plain": [
       "<matplotlib.figure.Figure at 0x7f45c080f7f0>"
      ]
     },
     "metadata": {},
     "output_type": "display_data"
    }
   ],
   "source": [
    "# TODO learn these form experts\n",
    "alpha_sure_about_1 = [6, 1, 1]\n",
    "alpha_sure_about_2 = [6, 6, 1]\n",
    "alpha_unsure = [6,6,6]\n",
    "\n",
    "D_sure_about_1 = Dirichlet(alpha_sure_about_1, )\n",
    "D_sure_about_2 = Dirichlet(alpha_sure_about_2)\n",
    "D_unsure = Dirichlet(alpha_unsure)\n",
    "\n",
    "Dirichlet.draw_pdf_contours(D_sure_about_2)\n"
   ]
  },
  {
   "cell_type": "markdown",
   "metadata": {},
   "source": [
    "Spit out random generated probability"
   ]
  },
  {
   "cell_type": "code",
   "execution_count": 17,
   "metadata": {
    "scrolled": true
   },
   "outputs": [
    {
     "name": "stdout",
     "output_type": "stream",
     "text": [
      "[0.10942865087671298, 0.02632277781680771, 0.8642485713064794]\n"
     ]
    }
   ],
   "source": [
    "# Multiple dimensions and classes we didnt think about, possibility to create a new class or handle unclassifyable\n",
    "raw = [random.random(), random.random(), random.random()]\n",
    "sample = helper.normalize(raw)\n",
    "print(sample)"
   ]
  },
  {
   "cell_type": "markdown",
   "metadata": {},
   "source": [
    "Sort the sample in order to have universal concepts\n",
    "\n",
    "Get the value of the dirichlet distribution at the position of the sample\n",
    "\n",
    "Biggest value is the most fitting concept"
   ]
  },
  {
   "cell_type": "code",
   "execution_count": 18,
   "metadata": {},
   "outputs": [
    {
     "name": "stdout",
     "output_type": "stream",
     "text": [
      "Sure about 1 with: 97.0% certainty, raw: 16.73693524458916\n",
      "Sure about 2 with: 3.0% certainty, raw: 0.5039870882276445\n",
      "No clue          : 0.0% certainty, raw: 0.0002422034694329761\n"
     ]
    }
   ],
   "source": [
    "sample.sort(reverse=True)\n",
    "\n",
    "sure_1_certainty = Dirichlet.pdf(D_sure_about_1, sample)\n",
    "sure_2_certainty = Dirichlet.pdf(D_sure_about_2, sample)\n",
    "unsure_certainty = Dirichlet.pdf(D_unsure, sample)\n",
    "\n",
    "\n",
    "normalized_certainties = helper.normalize([sure_1_certainty, sure_2_certainty, unsure_certainty])\n",
    "\n",
    "out = \"Sure about 1 with: \" + str(round(normalized_certainties[0],2)*100) + \"% certainty, raw: \" + str(sure_1_certainty)\n",
    "print(out)\n",
    "out = \"Sure about 2 with: \" + str(round(normalized_certainties[1],2)*100) + \"% certainty, raw: \" + str(sure_2_certainty)\n",
    "print(out)\n",
    "out = \"No clue          : \" + str(round(normalized_certainties[2],2)*100) + \"% certainty, raw: \" + str(unsure_certainty)\n",
    "print(out)\n",
    "\n"
   ]
  }
 ],
 "metadata": {
  "kernelspec": {
   "display_name": "dirichlet",
   "language": "python",
   "name": "dirichlet"
  },
  "language_info": {
   "codemirror_mode": {
    "name": "ipython",
    "version": 3
   },
   "file_extension": ".py",
   "mimetype": "text/x-python",
   "name": "python",
   "nbconvert_exporter": "python",
   "pygments_lexer": "ipython3",
   "version": "3.6.4"
  }
 },
 "nbformat": 4,
 "nbformat_minor": 2
}
